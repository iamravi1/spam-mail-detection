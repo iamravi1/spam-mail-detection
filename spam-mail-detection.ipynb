{
 "cells": [
  {
   "cell_type": "code",
   "execution_count": 1,
   "id": "1fa05b1d",
   "metadata": {
    "_cell_guid": "b1076dfc-b9ad-4769-8c92-a6c4dae69d19",
    "_uuid": "8f2839f25d086af736a60e9eeb907d3b93b6e0e5",
    "execution": {
     "iopub.execute_input": "2022-07-07T11:13:10.306730Z",
     "iopub.status.busy": "2022-07-07T11:13:10.306041Z",
     "iopub.status.idle": "2022-07-07T11:13:10.323265Z",
     "shell.execute_reply": "2022-07-07T11:13:10.322503Z"
    },
    "papermill": {
     "duration": 0.025606,
     "end_time": "2022-07-07T11:13:10.326228",
     "exception": false,
     "start_time": "2022-07-07T11:13:10.300622",
     "status": "completed"
    },
    "tags": []
   },
   "outputs": [
    {
     "name": "stdout",
     "output_type": "stream",
     "text": [
      "/kaggle/input/spam-mails-dataset/spam_ham_dataset.csv\n"
     ]
    }
   ],
   "source": [
    "# This Python 3 environment comes with many helpful analytics libraries installed\n",
    "# It is defined by the kaggle/python Docker image: https://github.com/kaggle/docker-python\n",
    "# For example, here's several helpful packages to load\n",
    "\n",
    "import numpy as np # linear algebra\n",
    "import pandas as pd # data processing, CSV file I/O (e.g. pd.read_csv)\n",
    "\n",
    "# Input data files are available in the read-only \"../input/\" directory\n",
    "# For example, running this (by clicking run or pressing Shift+Enter) will list all files under the input directory\n",
    "\n",
    "import os\n",
    "for dirname, _, filenames in os.walk('/kaggle/input'):\n",
    "    for filename in filenames:\n",
    "        print(os.path.join(dirname, filename))\n",
    "\n",
    "# You can write up to 20GB to the current directory (/kaggle/working/) that gets preserved as output when you create a version using \"Save & Run All\" \n",
    "# You can also write temporary files to /kaggle/temp/, but they won't be saved outside of the current session"
   ]
  },
  {
   "cell_type": "code",
   "execution_count": 2,
   "id": "e1fea7e3",
   "metadata": {
    "execution": {
     "iopub.execute_input": "2022-07-07T11:13:10.336105Z",
     "iopub.status.busy": "2022-07-07T11:13:10.335435Z",
     "iopub.status.idle": "2022-07-07T11:13:11.424004Z",
     "shell.execute_reply": "2022-07-07T11:13:11.423198Z"
    },
    "papermill": {
     "duration": 1.09544,
     "end_time": "2022-07-07T11:13:11.426266",
     "exception": false,
     "start_time": "2022-07-07T11:13:10.330826",
     "status": "completed"
    },
    "tags": []
   },
   "outputs": [],
   "source": [
    "import seaborn as sns"
   ]
  },
  {
   "cell_type": "code",
   "execution_count": 3,
   "id": "fba62d86",
   "metadata": {
    "execution": {
     "iopub.execute_input": "2022-07-07T11:13:11.434597Z",
     "iopub.status.busy": "2022-07-07T11:13:11.433576Z",
     "iopub.status.idle": "2022-07-07T11:13:11.590353Z",
     "shell.execute_reply": "2022-07-07T11:13:11.589191Z"
    },
    "papermill": {
     "duration": 0.163563,
     "end_time": "2022-07-07T11:13:11.592780",
     "exception": false,
     "start_time": "2022-07-07T11:13:11.429217",
     "status": "completed"
    },
    "tags": []
   },
   "outputs": [
    {
     "data": {
      "text/html": [
       "<div>\n",
       "<style scoped>\n",
       "    .dataframe tbody tr th:only-of-type {\n",
       "        vertical-align: middle;\n",
       "    }\n",
       "\n",
       "    .dataframe tbody tr th {\n",
       "        vertical-align: top;\n",
       "    }\n",
       "\n",
       "    .dataframe thead th {\n",
       "        text-align: right;\n",
       "    }\n",
       "</style>\n",
       "<table border=\"1\" class=\"dataframe\">\n",
       "  <thead>\n",
       "    <tr style=\"text-align: right;\">\n",
       "      <th></th>\n",
       "      <th>Unnamed: 0</th>\n",
       "      <th>label</th>\n",
       "      <th>text</th>\n",
       "      <th>label_num</th>\n",
       "    </tr>\n",
       "  </thead>\n",
       "  <tbody>\n",
       "    <tr>\n",
       "      <th>0</th>\n",
       "      <td>605</td>\n",
       "      <td>ham</td>\n",
       "      <td>Subject: enron methanol ; meter # : 988291\\r\\n...</td>\n",
       "      <td>0</td>\n",
       "    </tr>\n",
       "    <tr>\n",
       "      <th>1</th>\n",
       "      <td>2349</td>\n",
       "      <td>ham</td>\n",
       "      <td>Subject: hpl nom for january 9 , 2001\\r\\n( see...</td>\n",
       "      <td>0</td>\n",
       "    </tr>\n",
       "    <tr>\n",
       "      <th>2</th>\n",
       "      <td>3624</td>\n",
       "      <td>ham</td>\n",
       "      <td>Subject: neon retreat\\r\\nho ho ho , we ' re ar...</td>\n",
       "      <td>0</td>\n",
       "    </tr>\n",
       "    <tr>\n",
       "      <th>3</th>\n",
       "      <td>4685</td>\n",
       "      <td>spam</td>\n",
       "      <td>Subject: photoshop , windows , office . cheap ...</td>\n",
       "      <td>1</td>\n",
       "    </tr>\n",
       "    <tr>\n",
       "      <th>4</th>\n",
       "      <td>2030</td>\n",
       "      <td>ham</td>\n",
       "      <td>Subject: re : indian springs\\r\\nthis deal is t...</td>\n",
       "      <td>0</td>\n",
       "    </tr>\n",
       "    <tr>\n",
       "      <th>...</th>\n",
       "      <td>...</td>\n",
       "      <td>...</td>\n",
       "      <td>...</td>\n",
       "      <td>...</td>\n",
       "    </tr>\n",
       "    <tr>\n",
       "      <th>5166</th>\n",
       "      <td>1518</td>\n",
       "      <td>ham</td>\n",
       "      <td>Subject: put the 10 on the ft\\r\\nthe transport...</td>\n",
       "      <td>0</td>\n",
       "    </tr>\n",
       "    <tr>\n",
       "      <th>5167</th>\n",
       "      <td>404</td>\n",
       "      <td>ham</td>\n",
       "      <td>Subject: 3 / 4 / 2000 and following noms\\r\\nhp...</td>\n",
       "      <td>0</td>\n",
       "    </tr>\n",
       "    <tr>\n",
       "      <th>5168</th>\n",
       "      <td>2933</td>\n",
       "      <td>ham</td>\n",
       "      <td>Subject: calpine daily gas nomination\\r\\n&gt;\\r\\n...</td>\n",
       "      <td>0</td>\n",
       "    </tr>\n",
       "    <tr>\n",
       "      <th>5169</th>\n",
       "      <td>1409</td>\n",
       "      <td>ham</td>\n",
       "      <td>Subject: industrial worksheets for august 2000...</td>\n",
       "      <td>0</td>\n",
       "    </tr>\n",
       "    <tr>\n",
       "      <th>5170</th>\n",
       "      <td>4807</td>\n",
       "      <td>spam</td>\n",
       "      <td>Subject: important online banking alert\\r\\ndea...</td>\n",
       "      <td>1</td>\n",
       "    </tr>\n",
       "  </tbody>\n",
       "</table>\n",
       "<p>5171 rows × 4 columns</p>\n",
       "</div>"
      ],
      "text/plain": [
       "      Unnamed: 0 label                                               text  \\\n",
       "0            605   ham  Subject: enron methanol ; meter # : 988291\\r\\n...   \n",
       "1           2349   ham  Subject: hpl nom for january 9 , 2001\\r\\n( see...   \n",
       "2           3624   ham  Subject: neon retreat\\r\\nho ho ho , we ' re ar...   \n",
       "3           4685  spam  Subject: photoshop , windows , office . cheap ...   \n",
       "4           2030   ham  Subject: re : indian springs\\r\\nthis deal is t...   \n",
       "...          ...   ...                                                ...   \n",
       "5166        1518   ham  Subject: put the 10 on the ft\\r\\nthe transport...   \n",
       "5167         404   ham  Subject: 3 / 4 / 2000 and following noms\\r\\nhp...   \n",
       "5168        2933   ham  Subject: calpine daily gas nomination\\r\\n>\\r\\n...   \n",
       "5169        1409   ham  Subject: industrial worksheets for august 2000...   \n",
       "5170        4807  spam  Subject: important online banking alert\\r\\ndea...   \n",
       "\n",
       "      label_num  \n",
       "0             0  \n",
       "1             0  \n",
       "2             0  \n",
       "3             1  \n",
       "4             0  \n",
       "...         ...  \n",
       "5166          0  \n",
       "5167          0  \n",
       "5168          0  \n",
       "5169          0  \n",
       "5170          1  \n",
       "\n",
       "[5171 rows x 4 columns]"
      ]
     },
     "execution_count": 3,
     "metadata": {},
     "output_type": "execute_result"
    }
   ],
   "source": [
    "data = pd.read_csv(\"../input/spam-mails-dataset/spam_ham_dataset.csv\")\n",
    "data"
   ]
  },
  {
   "cell_type": "code",
   "execution_count": 4,
   "id": "8dd4b3b7",
   "metadata": {
    "execution": {
     "iopub.execute_input": "2022-07-07T11:13:11.601816Z",
     "iopub.status.busy": "2022-07-07T11:13:11.600983Z",
     "iopub.status.idle": "2022-07-07T11:13:11.611496Z",
     "shell.execute_reply": "2022-07-07T11:13:11.610279Z"
    },
    "papermill": {
     "duration": 0.017523,
     "end_time": "2022-07-07T11:13:11.613707",
     "exception": false,
     "start_time": "2022-07-07T11:13:11.596184",
     "status": "completed"
    },
    "tags": []
   },
   "outputs": [
    {
     "data": {
      "text/plain": [
       "Unnamed: 0    0\n",
       "label         0\n",
       "text          0\n",
       "label_num     0\n",
       "dtype: int64"
      ]
     },
     "execution_count": 4,
     "metadata": {},
     "output_type": "execute_result"
    }
   ],
   "source": [
    "data.isnull().sum()"
   ]
  },
  {
   "cell_type": "code",
   "execution_count": 5,
   "id": "d0dc5500",
   "metadata": {
    "execution": {
     "iopub.execute_input": "2022-07-07T11:13:11.622678Z",
     "iopub.status.busy": "2022-07-07T11:13:11.621812Z",
     "iopub.status.idle": "2022-07-07T11:13:11.627140Z",
     "shell.execute_reply": "2022-07-07T11:13:11.626411Z"
    },
    "papermill": {
     "duration": 0.012077,
     "end_time": "2022-07-07T11:13:11.629117",
     "exception": false,
     "start_time": "2022-07-07T11:13:11.617040",
     "status": "completed"
    },
    "tags": []
   },
   "outputs": [],
   "source": [
    "X = data.iloc[:,2]\n",
    "y = data.iloc[:,3]"
   ]
  },
  {
   "cell_type": "code",
   "execution_count": 6,
   "id": "fd7faad1",
   "metadata": {
    "execution": {
     "iopub.execute_input": "2022-07-07T11:13:11.637616Z",
     "iopub.status.busy": "2022-07-07T11:13:11.636975Z",
     "iopub.status.idle": "2022-07-07T11:13:11.830893Z",
     "shell.execute_reply": "2022-07-07T11:13:11.829763Z"
    },
    "papermill": {
     "duration": 0.200911,
     "end_time": "2022-07-07T11:13:11.833320",
     "exception": false,
     "start_time": "2022-07-07T11:13:11.632409",
     "status": "completed"
    },
    "tags": []
   },
   "outputs": [],
   "source": [
    "from sklearn.model_selection import train_test_split\n",
    "X_train,X_test,y_train,y_test = train_test_split(X,y,test_size=0.2,random_state=0)"
   ]
  },
  {
   "cell_type": "code",
   "execution_count": 7,
   "id": "45164ca0",
   "metadata": {
    "execution": {
     "iopub.execute_input": "2022-07-07T11:13:11.842090Z",
     "iopub.status.busy": "2022-07-07T11:13:11.841221Z",
     "iopub.status.idle": "2022-07-07T11:13:12.494914Z",
     "shell.execute_reply": "2022-07-07T11:13:12.494111Z"
    },
    "papermill": {
     "duration": 0.660325,
     "end_time": "2022-07-07T11:13:12.497093",
     "exception": false,
     "start_time": "2022-07-07T11:13:11.836768",
     "status": "completed"
    },
    "tags": []
   },
   "outputs": [
    {
     "data": {
      "text/plain": [
       "Pipeline(steps=[('tfidfvectorizer', TfidfVectorizer()),\n",
       "                ('multinomialnb', MultinomialNB())])"
      ]
     },
     "execution_count": 7,
     "metadata": {},
     "output_type": "execute_result"
    }
   ],
   "source": [
    "from sklearn.feature_extraction.text import TfidfVectorizer\n",
    "from sklearn.naive_bayes import MultinomialNB\n",
    "from sklearn.pipeline import make_pipeline\n",
    "model = make_pipeline(TfidfVectorizer(),MultinomialNB())\n",
    "model.fit(X_train,y_train)"
   ]
  },
  {
   "cell_type": "code",
   "execution_count": 8,
   "id": "575e35ed",
   "metadata": {
    "execution": {
     "iopub.execute_input": "2022-07-07T11:13:12.505291Z",
     "iopub.status.busy": "2022-07-07T11:13:12.504576Z",
     "iopub.status.idle": "2022-07-07T11:13:12.641204Z",
     "shell.execute_reply": "2022-07-07T11:13:12.640127Z"
    },
    "papermill": {
     "duration": 0.143162,
     "end_time": "2022-07-07T11:13:12.643563",
     "exception": false,
     "start_time": "2022-07-07T11:13:12.500401",
     "status": "completed"
    },
    "tags": []
   },
   "outputs": [
    {
     "data": {
      "text/plain": [
       "array([0, 0, 0, ..., 0, 1, 0])"
      ]
     },
     "execution_count": 8,
     "metadata": {},
     "output_type": "execute_result"
    }
   ],
   "source": [
    "y_pred=model.predict(X_test)\n",
    "y_pred"
   ]
  },
  {
   "cell_type": "code",
   "execution_count": 9,
   "id": "496eb0ac",
   "metadata": {
    "execution": {
     "iopub.execute_input": "2022-07-07T11:13:12.652386Z",
     "iopub.status.busy": "2022-07-07T11:13:12.651597Z",
     "iopub.status.idle": "2022-07-07T11:13:13.438006Z",
     "shell.execute_reply": "2022-07-07T11:13:13.437224Z"
    },
    "papermill": {
     "duration": 0.793316,
     "end_time": "2022-07-07T11:13:13.440299",
     "exception": false,
     "start_time": "2022-07-07T11:13:12.646983",
     "status": "completed"
    },
    "tags": []
   },
   "outputs": [
    {
     "name": "stdout",
     "output_type": "stream",
     "text": [
      "spam\n"
     ]
    }
   ],
   "source": [
    "model.fit(X,y)\n",
    "mail = model.predict([\"click here to make money\"])\n",
    "if mail[0]==0:\n",
    "    print(\"Ham\")\n",
    "else:\n",
    "    print(\"spam\")"
   ]
  },
  {
   "cell_type": "code",
   "execution_count": 10,
   "id": "7ddc5f66",
   "metadata": {
    "execution": {
     "iopub.execute_input": "2022-07-07T11:13:13.456310Z",
     "iopub.status.busy": "2022-07-07T11:13:13.455331Z",
     "iopub.status.idle": "2022-07-07T11:13:13.462113Z",
     "shell.execute_reply": "2022-07-07T11:13:13.461350Z"
    },
    "papermill": {
     "duration": 0.013649,
     "end_time": "2022-07-07T11:13:13.464250",
     "exception": false,
     "start_time": "2022-07-07T11:13:13.450601",
     "status": "completed"
    },
    "tags": []
   },
   "outputs": [
    {
     "data": {
      "text/plain": [
       "0.8724637681159421"
      ]
     },
     "execution_count": 10,
     "metadata": {},
     "output_type": "execute_result"
    }
   ],
   "source": [
    "from sklearn.metrics import accuracy_score\n",
    "ac = accuracy_score(y_test,y_pred)\n",
    "ac"
   ]
  }
 ],
 "metadata": {
  "kernelspec": {
   "display_name": "Python 3",
   "language": "python",
   "name": "python3"
  },
  "language_info": {
   "codemirror_mode": {
    "name": "ipython",
    "version": 3
   },
   "file_extension": ".py",
   "mimetype": "text/x-python",
   "name": "python",
   "nbconvert_exporter": "python",
   "pygments_lexer": "ipython3",
   "version": "3.7.12"
  },
  "papermill": {
   "default_parameters": {},
   "duration": 12.678432,
   "end_time": "2022-07-07T11:13:14.189668",
   "environment_variables": {},
   "exception": null,
   "input_path": "__notebook__.ipynb",
   "output_path": "__notebook__.ipynb",
   "parameters": {},
   "start_time": "2022-07-07T11:13:01.511236",
   "version": "2.3.4"
  }
 },
 "nbformat": 4,
 "nbformat_minor": 5
}
